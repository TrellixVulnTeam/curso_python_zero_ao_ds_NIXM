{
 "cells": [
  {
   "cell_type": "code",
   "execution_count": 2,
   "metadata": {},
   "outputs": [],
   "source": [
    "import pandas as pd\n",
    "\n",
    "data = pd.read_csv('../datasets/kc_house_data.csv')"
   ]
  },
  {
   "cell_type": "code",
   "execution_count": 20,
   "metadata": {},
   "outputs": [
    {
     "data": {
      "text/html": [
       "<div>\n",
       "<style scoped>\n",
       "    .dataframe tbody tr th:only-of-type {\n",
       "        vertical-align: middle;\n",
       "    }\n",
       "\n",
       "    .dataframe tbody tr th {\n",
       "        vertical-align: top;\n",
       "    }\n",
       "\n",
       "    .dataframe thead th {\n",
       "        text-align: right;\n",
       "    }\n",
       "</style>\n",
       "<table border=\"1\" class=\"dataframe\">\n",
       "  <thead>\n",
       "    <tr style=\"text-align: right;\">\n",
       "      <th></th>\n",
       "      <th>id</th>\n",
       "      <th>date</th>\n",
       "      <th>price</th>\n",
       "      <th>bedrooms</th>\n",
       "      <th>bathrooms</th>\n",
       "      <th>sqft_living</th>\n",
       "      <th>sqft_lot</th>\n",
       "      <th>floors</th>\n",
       "      <th>waterfront</th>\n",
       "      <th>view</th>\n",
       "      <th>...</th>\n",
       "      <th>grade</th>\n",
       "      <th>sqft_above</th>\n",
       "      <th>sqft_basement</th>\n",
       "      <th>yr_built</th>\n",
       "      <th>yr_renovated</th>\n",
       "      <th>zipcode</th>\n",
       "      <th>lat</th>\n",
       "      <th>long</th>\n",
       "      <th>sqft_living15</th>\n",
       "      <th>sqft_lot15</th>\n",
       "    </tr>\n",
       "  </thead>\n",
       "  <tbody>\n",
       "    <tr>\n",
       "      <th>0</th>\n",
       "      <td>7129300520</td>\n",
       "      <td>20141013T000000</td>\n",
       "      <td>221900.0</td>\n",
       "      <td>3</td>\n",
       "      <td>1.00</td>\n",
       "      <td>1180</td>\n",
       "      <td>5650</td>\n",
       "      <td>1.0</td>\n",
       "      <td>0</td>\n",
       "      <td>0</td>\n",
       "      <td>...</td>\n",
       "      <td>7</td>\n",
       "      <td>1180</td>\n",
       "      <td>0</td>\n",
       "      <td>1955</td>\n",
       "      <td>0</td>\n",
       "      <td>98178</td>\n",
       "      <td>47.5112</td>\n",
       "      <td>-122.257</td>\n",
       "      <td>1340</td>\n",
       "      <td>5650</td>\n",
       "    </tr>\n",
       "    <tr>\n",
       "      <th>1</th>\n",
       "      <td>6414100192</td>\n",
       "      <td>20141209T000000</td>\n",
       "      <td>538000.0</td>\n",
       "      <td>3</td>\n",
       "      <td>2.25</td>\n",
       "      <td>2570</td>\n",
       "      <td>7242</td>\n",
       "      <td>2.0</td>\n",
       "      <td>0</td>\n",
       "      <td>0</td>\n",
       "      <td>...</td>\n",
       "      <td>7</td>\n",
       "      <td>2170</td>\n",
       "      <td>400</td>\n",
       "      <td>1951</td>\n",
       "      <td>1991</td>\n",
       "      <td>98125</td>\n",
       "      <td>47.7210</td>\n",
       "      <td>-122.319</td>\n",
       "      <td>1690</td>\n",
       "      <td>7639</td>\n",
       "    </tr>\n",
       "    <tr>\n",
       "      <th>2</th>\n",
       "      <td>5631500400</td>\n",
       "      <td>20150225T000000</td>\n",
       "      <td>180000.0</td>\n",
       "      <td>2</td>\n",
       "      <td>1.00</td>\n",
       "      <td>770</td>\n",
       "      <td>10000</td>\n",
       "      <td>1.0</td>\n",
       "      <td>0</td>\n",
       "      <td>0</td>\n",
       "      <td>...</td>\n",
       "      <td>6</td>\n",
       "      <td>770</td>\n",
       "      <td>0</td>\n",
       "      <td>1933</td>\n",
       "      <td>0</td>\n",
       "      <td>98028</td>\n",
       "      <td>47.7379</td>\n",
       "      <td>-122.233</td>\n",
       "      <td>2720</td>\n",
       "      <td>8062</td>\n",
       "    </tr>\n",
       "    <tr>\n",
       "      <th>3</th>\n",
       "      <td>2487200875</td>\n",
       "      <td>20141209T000000</td>\n",
       "      <td>604000.0</td>\n",
       "      <td>4</td>\n",
       "      <td>3.00</td>\n",
       "      <td>1960</td>\n",
       "      <td>5000</td>\n",
       "      <td>1.0</td>\n",
       "      <td>0</td>\n",
       "      <td>0</td>\n",
       "      <td>...</td>\n",
       "      <td>7</td>\n",
       "      <td>1050</td>\n",
       "      <td>910</td>\n",
       "      <td>1965</td>\n",
       "      <td>0</td>\n",
       "      <td>98136</td>\n",
       "      <td>47.5208</td>\n",
       "      <td>-122.393</td>\n",
       "      <td>1360</td>\n",
       "      <td>5000</td>\n",
       "    </tr>\n",
       "    <tr>\n",
       "      <th>4</th>\n",
       "      <td>1954400510</td>\n",
       "      <td>20150218T000000</td>\n",
       "      <td>510000.0</td>\n",
       "      <td>3</td>\n",
       "      <td>2.00</td>\n",
       "      <td>1680</td>\n",
       "      <td>8080</td>\n",
       "      <td>1.0</td>\n",
       "      <td>0</td>\n",
       "      <td>0</td>\n",
       "      <td>...</td>\n",
       "      <td>8</td>\n",
       "      <td>1680</td>\n",
       "      <td>0</td>\n",
       "      <td>1987</td>\n",
       "      <td>0</td>\n",
       "      <td>98074</td>\n",
       "      <td>47.6168</td>\n",
       "      <td>-122.045</td>\n",
       "      <td>1800</td>\n",
       "      <td>7503</td>\n",
       "    </tr>\n",
       "  </tbody>\n",
       "</table>\n",
       "<p>5 rows × 21 columns</p>\n",
       "</div>"
      ],
      "text/plain": [
       "           id             date     price  bedrooms  bathrooms  sqft_living  \\\n",
       "0  7129300520  20141013T000000  221900.0         3       1.00         1180   \n",
       "1  6414100192  20141209T000000  538000.0         3       2.25         2570   \n",
       "2  5631500400  20150225T000000  180000.0         2       1.00          770   \n",
       "3  2487200875  20141209T000000  604000.0         4       3.00         1960   \n",
       "4  1954400510  20150218T000000  510000.0         3       2.00         1680   \n",
       "\n",
       "   sqft_lot  floors  waterfront  view  ...  grade  sqft_above  sqft_basement  \\\n",
       "0      5650     1.0           0     0  ...      7        1180              0   \n",
       "1      7242     2.0           0     0  ...      7        2170            400   \n",
       "2     10000     1.0           0     0  ...      6         770              0   \n",
       "3      5000     1.0           0     0  ...      7        1050            910   \n",
       "4      8080     1.0           0     0  ...      8        1680              0   \n",
       "\n",
       "   yr_built  yr_renovated  zipcode      lat     long  sqft_living15  \\\n",
       "0      1955             0    98178  47.5112 -122.257           1340   \n",
       "1      1951          1991    98125  47.7210 -122.319           1690   \n",
       "2      1933             0    98028  47.7379 -122.233           2720   \n",
       "3      1965             0    98136  47.5208 -122.393           1360   \n",
       "4      1987             0    98074  47.6168 -122.045           1800   \n",
       "\n",
       "   sqft_lot15  \n",
       "0        5650  \n",
       "1        7639  \n",
       "2        8062  \n",
       "3        5000  \n",
       "4        7503  \n",
       "\n",
       "[5 rows x 21 columns]"
      ]
     },
     "execution_count": 20,
     "metadata": {},
     "output_type": "execute_result"
    }
   ],
   "source": [
    "data.head()"
   ]
  },
  {
   "cell_type": "code",
   "execution_count": 21,
   "metadata": {},
   "outputs": [
    {
     "data": {
      "text/plain": [
       "(21613, 21)"
      ]
     },
     "execution_count": 21,
     "metadata": {},
     "output_type": "execute_result"
    }
   ],
   "source": [
    "data.shape"
   ]
  },
  {
   "cell_type": "markdown",
   "metadata": {},
   "source": [
    "## Perguntas do CEO"
   ]
  },
  {
   "cell_type": "code",
   "execution_count": 54,
   "metadata": {},
   "outputs": [
    {
     "name": "stdout",
     "output_type": "stream",
     "text": [
      "\n",
      "QUESTÃO 01:\n",
      "21613 casas estão disponíveis para venda.\n"
     ]
    }
   ],
   "source": [
    "# 1. Quantas casas estão disponíveis para venda?\n",
    "print(\"\\nQUESTÃO 01:\\n{} casas estão disponíveis para venda.\".format(len(data))) # len(data.index)"
   ]
  },
  {
   "cell_type": "code",
   "execution_count": 55,
   "metadata": {},
   "outputs": [
    {
     "name": "stdout",
     "output_type": "stream",
     "text": [
      "\n",
      "QUESTÃO 02:\n",
      "As casas possuem 21 atributos.\n"
     ]
    }
   ],
   "source": [
    "\n",
    "# 2. Quantos atributos as casas possuem?\n",
    "print(\"\\nQUESTÃO 02:\\nAs casas possuem\", data.shape[1], \"atributos.\") # len(data.columns)"
   ]
  },
  {
   "cell_type": "code",
   "execution_count": 56,
   "metadata": {
    "scrolled": true
   },
   "outputs": [
    {
     "name": "stdout",
     "output_type": "stream",
     "text": [
      "\n",
      "QUESTÃO 03:\n",
      "Os atributos das casas são: \n",
      " ['id' 'date' 'price' 'bedrooms' 'bathrooms' 'sqft_living' 'sqft_lot'\n",
      " 'floors' 'waterfront' 'view' 'condition' 'grade' 'sqft_above'\n",
      " 'sqft_basement' 'yr_built' 'yr_renovated' 'zipcode' 'lat' 'long'\n",
      " 'sqft_living15' 'sqft_lot15']\n"
     ]
    }
   ],
   "source": [
    "# 3. Quais são os atributos das casas?\n",
    "\n",
    "print(\"\\nQUESTÃO 03:\\nOs atributos das casas são: \\n\", data.columns.values) # for atributo in data.columns.values: print(atributo)"
   ]
  },
  {
   "cell_type": "code",
   "execution_count": 99,
   "metadata": {},
   "outputs": [
    {
     "name": "stdout",
     "output_type": "stream",
     "text": [
      "\n",
      "QUESTÃO 04:\n",
      "A casa mais cara é a de ID 6762700020, cujo valor é de R$ 7700000.00.\n",
      "\n"
     ]
    }
   ],
   "source": [
    "# 4. Qual a casa mais cara (casa com o maior valor de venda)?\n",
    "print(\"\\nQUESTÃO 04:\\nA casa mais cara é a de ID {}, cujo valor é de R$ {:.2f}.\\n\". \\\n",
    "      format(data['id'][data['price'].argmax()], max(data['price']))) \n",
    "\n",
    "# ou\n",
    "# casaMaisCara = data[['id', 'price']].sort_values('price', ascending=False).head(1)\n",
    "# print('\\nQUESTÃO 04:\\nA casa mais cara é a de ID {}, cujo valor é de R$ {:.2f}.\\n'.format(casaMaisCara.iat[0,0], casaMaisCara.iat[0,1]))"
   ]
  },
  {
   "cell_type": "code",
   "execution_count": 111,
   "metadata": {},
   "outputs": [
    {
     "name": "stdout",
     "output_type": "stream",
     "text": [
      "\n",
      "QUESTÃO 05:\n",
      "A casa com maior número de quartos é a de ID 2402100895, cuja a quantidade é de 33 quartos.\n",
      "\n"
     ]
    }
   ],
   "source": [
    "# 5. Qual a casa com o maior número de quartos?\n",
    "print('\\nQUESTÃO 05:\\nA casa com maior número de quartos é a de ID {}, cuja a quantidade é de {} quartos.\\n'. \\\n",
    "      format(data['id'][data['bedrooms'].argmax()], max(data['bedrooms']))) \n",
    "\n",
    "# # Casas ordenadas pelo número de quartos\n",
    "# data[['id', 'bedrooms']].sort_values('bedrooms', ascending=False)"
   ]
  },
  {
   "cell_type": "code",
   "execution_count": 116,
   "metadata": {},
   "outputs": [
    {
     "name": "stdout",
     "output_type": "stream",
     "text": [
      "\n",
      "QUESTÃO 06:\n",
      "O conjunto de dados possui um total de 72854 quartos.\n",
      "\n"
     ]
    }
   ],
   "source": [
    "# 6. Qual a soma total de quartos do conjunto de dados?\n",
    "print(\"QUESTÃO 06:\\nO conjunto de dados possui um total de {} quartos.\\n\".format(data[\"bedrooms\"].sum())) # sum(data['bedrooms'])"
   ]
  },
  {
   "cell_type": "code",
   "execution_count": 147,
   "metadata": {},
   "outputs": [
    {
     "name": "stdout",
     "output_type": "stream",
     "text": [
      "QUESTÃO 07:\n",
      "Um total de 1930 casas possuem 2 banheiros.\n",
      "\n"
     ]
    }
   ],
   "source": [
    "# 7. Quantas casas possuem 2 banheiros?\n",
    "print(\"QUESTÃO 07:\\nUm total de {} casas possuem 2 banheiros.\\n\".\\\n",
    "      format( len(data.query('bathrooms==2')) )) # (data[\"bathrooms\"] == 2).sum())"
   ]
  },
  {
   "cell_type": "code",
   "execution_count": 182,
   "metadata": {},
   "outputs": [
    {
     "name": "stdout",
     "output_type": "stream",
     "text": [
      "QUESTÃO 08:\n",
      "O preço médio das casas é de R$ 540088.14\n",
      "\n"
     ]
    }
   ],
   "source": [
    "# 8. Qual o preço médio de todas as casas no conjunto de dados?\n",
    "# soma_preco_casas = data['price'].sum()\n",
    "# print(\"A soma dos preços é igual a: R$\", soma_preco_casas)\n",
    "# qtdd_casas = len(data.index) #row_count, column_count = df.shape\n",
    "# print(\"A quantidade de casas é igual a:\", qtdd_casas)\n",
    "# print(\"O preço médio de todas as casas é: R$\", round(soma_preco_casas / qtdd_casas, 2))\n",
    "\n",
    "# Ou usando a função mean\n",
    "print(\"QUESTÃO 08:\\nO preço médio das casas é de R$ {:.2f}\\n\".format(data['price'].mean())) # data['price'].describe()[1]"
   ]
  },
  {
   "cell_type": "code",
   "execution_count": 183,
   "metadata": {},
   "outputs": [
    {
     "name": "stdout",
     "output_type": "stream",
     "text": [
      "QUESTÃO 9:\n",
      "O preço médio de casas com dois banheiros é de R$ 457889.72\n",
      "\n"
     ]
    }
   ],
   "source": [
    "# 9. Qual o preço médio de casas com 2 banheiros?\n",
    "\n",
    "casas_2banheiros = data.query('bathrooms == 2') \n",
    "print(\"QUESTÃO 9:\\nO preço médio de casas com dois banheiros é de R$ {:.2f}\\n\".\\\n",
    "      format(casas_2banheiros['price'].mean()))"
   ]
  },
  {
   "cell_type": "code",
   "execution_count": 193,
   "metadata": {},
   "outputs": [
    {
     "name": "stdout",
     "output_type": "stream",
     "text": [
      "QUESTÃO 10:\n",
      "O preço mínimo entre as casas com 3 quartos é de R$ 82000.00\n",
      "\n"
     ]
    }
   ],
   "source": [
    "# 10. Qual o preço mínimo entre as casas com 3 quartos?\n",
    "casas_3quartos = data.query('bedrooms == 3') \n",
    "print(\"QUESTÃO 10:\\nO preço mínimo entre as casas com 3 quartos é de R$ {:.2f}\\n\".\\\n",
    "      format(casas_3quartos.price.min())) # casas_3quartos.price.describe()[3]"
   ]
  },
  {
   "cell_type": "code",
   "execution_count": 219,
   "metadata": {},
   "outputs": [
    {
     "name": "stdout",
     "output_type": "stream",
     "text": [
      "QUESTÃO 11:\n",
      "2258 casas possuem mais de 300 metros quadrados na sala de estar.\n",
      "\n"
     ]
    }
   ],
   "source": [
    "# 11. Quantas casas possuem mais de 300 metros quadrados na sala de estar?\n",
    "data['m2_living'] = data['sqft_living'] * 0.092903\n",
    "qtdCasas_salas_mais_de_300m = len(data.query('m2_living > 300'))\n",
    "print(\"QUESTÃO 11:\\n{} casas possuem mais de 300 metros quadrados na sala de estar.\\n\".\\\n",
    "      format(qtddCasas_salas_mais_de_300m))"
   ]
  },
  {
   "cell_type": "code",
   "execution_count": 232,
   "metadata": {},
   "outputs": [
    {
     "name": "stdout",
     "output_type": "stream",
     "text": [
      "QUESTÃO 12:\n",
      "782 casas tem mais de 2 andares\n",
      "\n"
     ]
    }
   ],
   "source": [
    "# 12. Quantas casas tem mais de 2 andares?\n",
    "qtdCasas_mais_de_2_andares = len(data.query('floors > 2')) # data.loc[ data['floors'] > 2, 'floors'].count()\n",
    "print(\"QUESTÃO 12:\\n{} casas tem mais de 2 andares\\n\".format(qtd_mais_d_2_andares))"
   ]
  },
  {
   "cell_type": "code",
   "execution_count": 231,
   "metadata": {},
   "outputs": [
    {
     "name": "stdout",
     "output_type": "stream",
     "text": [
      "QUESTÃO 13:\n",
      "163 casas tem vista para o mar.\n",
      "\n"
     ]
    }
   ],
   "source": [
    "# 13. Quantas casas tem vista para o mar?\n",
    "qtdCasas_vista_mar = len(data.query('waterfront == 1')) # len(data.loc[data['waterfront'] == True, 'waterfront'])\n",
    "print(\"QUESTÃO 13:\\n{} casas tem vista para o mar.\\n\".format(qtdCasas_vista_mar))"
   ]
  },
  {
   "cell_type": "code",
   "execution_count": 233,
   "metadata": {},
   "outputs": [
    {
     "name": "stdout",
     "output_type": "stream",
     "text": [
      "QUESTÃO 14:\n",
      "64 casas com vista para o mar tem 3 quartos.\n",
      "\n"
     ]
    }
   ],
   "source": [
    "# 14. Das casas com vista para o mar, quantas tem 3 quartos?\n",
    "# qtdCasas_vista_mar_3quartos = len(data.query('waterfront == 1').query('bedrooms == 3'))\n",
    "qtdCasas_vista_mar_3quartos = len(data.loc[(data.waterfront == 1) & (data.bedrooms == 3)])\n",
    "print('QUESTÃO 14:\\n{} casas com vista para o mar tem 3 quartos.\\n'.format(qtdCasas_vista_mar_3quartos))"
   ]
  },
  {
   "cell_type": "code",
   "execution_count": 245,
   "metadata": {},
   "outputs": [
    {
     "name": "stdout",
     "output_type": "stream",
     "text": [
      "QUESTÃO 15:\n",
      "2201 casas com mais de 300 metros quadrados de sala de estar tem mais de dois banheiros.\n"
     ]
    }
   ],
   "source": [
    "# 15. Das casas com mais de 300 metros quadrados de sala de estar, quantas tem mais de 2 banheiros?\n",
    "#qtdCasas_sala300m_e_2banheiros = len(data.loc[(data.m2_living > 300) & (data.bathrooms > 2)])\n",
    "qtdCasas_sala300m_e_2banheiros = len(data.query('m2_living > 300').query('bathrooms > 2'))\n",
    "print(\"QUESTÃO 15:\\n{} casas com mais de 300 metros quadrados de sala de estar tem mais de dois banheiros.\".\\\n",
    "      format(qtdCasas_sala300m_e_2banheiros))"
   ]
  }
 ],
 "metadata": {
  "kernelspec": {
   "display_name": "Python 3",
   "language": "python",
   "name": "python3"
  },
  "language_info": {
   "codemirror_mode": {
    "name": "ipython",
    "version": 3
   },
   "file_extension": ".py",
   "mimetype": "text/x-python",
   "name": "python",
   "nbconvert_exporter": "python",
   "pygments_lexer": "ipython3",
   "version": "3.7.6"
  }
 },
 "nbformat": 4,
 "nbformat_minor": 4
}
